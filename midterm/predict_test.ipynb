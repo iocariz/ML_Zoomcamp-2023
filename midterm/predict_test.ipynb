{
 "cells": [
  {
   "cell_type": "code",
   "execution_count": 7,
   "metadata": {},
   "outputs": [
    {
     "name": "stdout",
     "output_type": "stream",
     "text": [
      "Expected price is: [127306.921875]\n"
     ]
    }
   ],
   "source": [
    "import requests\n",
    "\n",
    "\n",
    "url = \"http://localhost:9696/predict\"\n",
    "\n",
    "house_id = \"0000000115\"\n",
    "house_sample = {\"functional\": \"typ\",\n",
    "                \"bsmtfintype1\": \"alq\",\n",
    "                \"1stflrsf\": 1411,\n",
    "                \"bsmtqual\": \"ta\",\n",
    "                \"fullbath\": 2,\n",
    "                \"grlivarea\": 1411,\n",
    "                \"garagecars\": 2,\n",
    "                \"bldgtype\": \"1fam\",\n",
    "                \"exterqual\": \"ta\",\n",
    "                \"heatingqc\": \"ta\",\n",
    "                \"kitchenqual\": \"ta\",\n",
    "                \"exterior1st\": \"plywood\",\n",
    "                \"bsmtexposure\": \"no\",\n",
    "                \"neighborhood\": \"nwames\",\n",
    "                \"yearremodadd\": 1977,\n",
    "                \"bsmtcond\": \"ta\",\n",
    "                \"yearbuilt\": 1977,\n",
    "                \"totalbsmtsf\": 1386,\n",
    "                \"mszoning\": \"rl\",\n",
    "                \"condition1\": \"norm\",\n",
    "                \"overallqual\": 7,\n",
    "                \"salecondition\": \"family\",\n",
    "                \"centralair\": \"y\"\n",
    "}\n",
    "\n",
    "response = requests.post(url, json=house_sample).json()\n",
    "print(\"Expected price is: %s\" % response)"
   ]
  },
  {
   "cell_type": "code",
   "execution_count": null,
   "metadata": {},
   "outputs": [],
   "source": []
  }
 ],
 "metadata": {
  "kernelspec": {
   "display_name": "midterm-FfkB8uAF",
   "language": "python",
   "name": "python3"
  },
  "language_info": {
   "codemirror_mode": {
    "name": "ipython",
    "version": 3
   },
   "file_extension": ".py",
   "mimetype": "text/x-python",
   "name": "python",
   "nbconvert_exporter": "python",
   "pygments_lexer": "ipython3",
   "version": "3.11.4"
  }
 },
 "nbformat": 4,
 "nbformat_minor": 2
}
