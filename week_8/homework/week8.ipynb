{
 "cells": [
  {
   "cell_type": "markdown",
   "metadata": {},
   "source": [
    "# Importing libraries"
   ]
  },
  {
   "cell_type": "code",
   "execution_count": 2,
   "metadata": {},
   "outputs": [],
   "source": [
    "import os\n",
    "import shutil\n",
    "\n",
    "import numpy as np\n",
    "import matplotlib.pyplot as plt\n",
    "\n",
    "from tensorflow import keras\n",
    "\n",
    "from tensorflow.keras import layers\n",
    "from tensorflow.keras import models\n",
    "from tensorflow.keras import optimizers\n",
    "\n",
    "from tensorflow.keras.preprocessing.image import ImageDataGenerator\n",
    "from tensorflow.keras.preprocessing import image"
   ]
  },
  {
   "cell_type": "code",
   "execution_count": 3,
   "metadata": {},
   "outputs": [
    {
     "data": {
      "text/plain": [
       "'2.14.0'"
      ]
     },
     "execution_count": 3,
     "metadata": {},
     "output_type": "execute_result"
    }
   ],
   "source": [
    "import tensorflow\n",
    "tensorflow.__version__"
   ]
  },
  {
   "cell_type": "code",
   "execution_count": 4,
   "metadata": {},
   "outputs": [],
   "source": [
    "#@ INITIALIZING PATH TO DATASET:\n",
    "train_dir = './train'\n",
    "test_dir = './test'"
   ]
  },
  {
   "cell_type": "code",
   "execution_count": 28,
   "metadata": {},
   "outputs": [],
   "source": [
    "def make_model(input_size=150, learning_rate=0.002):\n",
    "\n",
    "    #########################################\n",
    "\n",
    "    inputs = keras.Input(shape=(input_size, input_size, 3))\n",
    "    conv = keras.layers.Conv2D(filters=32, kernel_size=(3,3),  activation='relu', input_shape=(input_size, input_size, 3))(inputs)\n",
    "    pools = keras.layers.MaxPooling2D(pool_size=(2, 2))(conv)\n",
    "    vectors = keras.layers.Flatten()(pools)\n",
    "\n",
    "    inner = keras.layers.Dense(units=64, activation='relu')(vectors)\n",
    "\n",
    "    outputs = keras.layers.Dense(units=1, activation='sigmoid')(inner)\n",
    "\n",
    "    model = keras.Model(inputs, outputs)\n",
    "\n",
    "    #########################################\n",
    "\n",
    "    optimizer = keras.optimizers.SGD(learning_rate=0.002, momentum=0.8)\n",
    "    loss = keras.losses.BinaryCrossentropy(from_logits=False)\n",
    "\n",
    "    model.compile(\n",
    "        optimizer=optimizer,\n",
    "        loss=loss,\n",
    "        metrics=['accuracy']\n",
    "    )\n",
    "\n",
    "    return model"
   ]
  },
  {
   "cell_type": "code",
   "execution_count": 29,
   "metadata": {},
   "outputs": [],
   "source": [
    "model = make_model(learning_rate=0.002)"
   ]
  },
  {
   "cell_type": "markdown",
   "metadata": {},
   "source": [
    "Answer for Question1: binary_crossentropy."
   ]
  },
  {
   "cell_type": "code",
   "execution_count": 31,
   "metadata": {},
   "outputs": [
    {
     "name": "stdout",
     "output_type": "stream",
     "text": [
      "Model: \"model\"\n",
      "_________________________________________________________________\n",
      " Layer (type)                Output Shape              Param #   \n",
      "=================================================================\n",
      " input_1 (InputLayer)        [(None, 150, 150, 3)]     0         \n",
      "                                                                 \n",
      " conv2d_1 (Conv2D)           (None, 148, 148, 32)      896       \n",
      "                                                                 \n",
      " max_pooling2d_1 (MaxPoolin  (None, 74, 74, 32)        0         \n",
      " g2D)                                                            \n",
      "                                                                 \n",
      " flatten_1 (Flatten)         (None, 175232)            0         \n",
      "                                                                 \n",
      " dense_2 (Dense)             (None, 64)                11214912  \n",
      "                                                                 \n",
      " dense_3 (Dense)             (None, 1)                 65        \n",
      "                                                                 \n",
      "=================================================================\n",
      "Total params: 11215873 (42.79 MB)\n",
      "Trainable params: 11215873 (42.79 MB)\n",
      "Non-trainable params: 0 (0.00 Byte)\n",
      "_________________________________________________________________\n"
     ]
    }
   ],
   "source": [
    "model.summary()"
   ]
  },
  {
   "cell_type": "markdown",
   "metadata": {},
   "source": [
    "Answer for Question2: 11,215,873"
   ]
  },
  {
   "cell_type": "code",
   "execution_count": 32,
   "metadata": {},
   "outputs": [],
   "source": [
    "\n",
    "#@ INITIALIZING IMAGE DATAGENERATOR:\n",
    "train_datagen = ImageDataGenerator(rescale=1./255)\n",
    "val_datagen = ImageDataGenerator(rescale=1./255)"
   ]
  },
  {
   "cell_type": "code",
   "execution_count": 33,
   "metadata": {},
   "outputs": [
    {
     "name": "stdout",
     "output_type": "stream",
     "text": [
      "Found 3677 images belonging to 2 classes.\n"
     ]
    }
   ],
   "source": [
    "train_generator = train_datagen.flow_from_directory(train_dir,\n",
    "                                                    target_size=(150, 150),\n",
    "                                                    batch_size=20,\n",
    "                                                    class_mode='binary')"
   ]
  },
  {
   "cell_type": "code",
   "execution_count": 34,
   "metadata": {},
   "outputs": [
    {
     "name": "stdout",
     "output_type": "stream",
     "text": [
      "Found 918 images belonging to 2 classes.\n"
     ]
    }
   ],
   "source": [
    "validation_generator = val_datagen.flow_from_directory(test_dir,\n",
    "                                                        target_size=(150, 150),\n",
    "                                                        batch_size=20,\n",
    "                                                        class_mode='binary',\n",
    "                                                        shuffle=True)"
   ]
  },
  {
   "cell_type": "code",
   "execution_count": 35,
   "metadata": {},
   "outputs": [
    {
     "name": "stdout",
     "output_type": "stream",
     "text": [
      "data batch shape: (20, 150, 150, 3)\n",
      "labels batch shape: (20,)\n"
     ]
    }
   ],
   "source": [
    "for data_batch, labels_batch in train_generator:\n",
    "    print('data batch shape:', data_batch.shape)\n",
    "    print('labels batch shape:', labels_batch.shape)\n",
    "    break"
   ]
  },
  {
   "cell_type": "code",
   "execution_count": 36,
   "metadata": {},
   "outputs": [
    {
     "name": "stdout",
     "output_type": "stream",
     "text": [
      "Epoch 1/10\n"
     ]
    },
    {
     "name": "stdout",
     "output_type": "stream",
     "text": [
      "184/184 [==============================] - 10s 52ms/step - loss: 0.6827 - accuracy: 0.5349 - val_loss: 0.6553 - val_accuracy: 0.6133\n",
      "Epoch 2/10\n",
      "184/184 [==============================] - 10s 52ms/step - loss: 0.6543 - accuracy: 0.6016 - val_loss: 0.6117 - val_accuracy: 0.6601\n",
      "Epoch 3/10\n",
      "184/184 [==============================] - 9s 51ms/step - loss: 0.6224 - accuracy: 0.6451 - val_loss: 0.5768 - val_accuracy: 0.6885\n",
      "Epoch 4/10\n",
      "184/184 [==============================] - 9s 51ms/step - loss: 0.5688 - accuracy: 0.7082 - val_loss: 0.5756 - val_accuracy: 0.6776\n",
      "Epoch 5/10\n",
      "184/184 [==============================] - 9s 51ms/step - loss: 0.5376 - accuracy: 0.7367 - val_loss: 0.5355 - val_accuracy: 0.7277\n",
      "Epoch 6/10\n",
      "184/184 [==============================] - 9s 51ms/step - loss: 0.5157 - accuracy: 0.7539 - val_loss: 0.5257 - val_accuracy: 0.7495\n",
      "Epoch 7/10\n",
      "184/184 [==============================] - 10s 52ms/step - loss: 0.4885 - accuracy: 0.7775 - val_loss: 0.5855 - val_accuracy: 0.7037\n",
      "Epoch 8/10\n",
      "184/184 [==============================] - 10s 53ms/step - loss: 0.4593 - accuracy: 0.7952 - val_loss: 0.5416 - val_accuracy: 0.7277\n",
      "Epoch 9/10\n",
      "184/184 [==============================] - 10s 52ms/step - loss: 0.4348 - accuracy: 0.8110 - val_loss: 0.5573 - val_accuracy: 0.7386\n",
      "Epoch 10/10\n",
      "184/184 [==============================] - 9s 51ms/step - loss: 0.4027 - accuracy: 0.8273 - val_loss: 0.5577 - val_accuracy: 0.7397\n"
     ]
    }
   ],
   "source": [
    "#@ TRAINING THE MODEL:\n",
    "history = model.fit(\n",
    "    train_generator,\n",
    "    epochs=10,\n",
    "    validation_data=validation_generator)"
   ]
  },
  {
   "cell_type": "code",
   "execution_count": 45,
   "metadata": {},
   "outputs": [
    {
     "data": {
      "image/png": "[encoded data removed]",
      "text/plain": [
       "<Figure size 640x480 with 1 Axes>"
      ]
     },
     "metadata": {},
     "output_type": "display_data"
    },
    {
     "data": {
      "image/png": "[encoded data removed]",
      "text/plain": [
       "<Figure size 640x480 with 1 Axes>"
      ]
     },
     "metadata": {},
     "output_type": "display_data"
    }
   ],
   "source": [
    "#@ PLOTTING LOSS AND ACCURACY:\n",
    "acc = history.history['accuracy']\n",
    "val_acc = history.history['val_accuracy']\n",
    "loss = history.history['loss']\n",
    "val_loss = history.history['val_loss']\n",
    "\n",
    "epochs = range(1, len(acc) + 1)\n",
    "\n",
    "plt.plot(epochs, acc, 'bo', label='Training acc')\n",
    "plt.plot(epochs, val_acc, 'b', label='Validation acc')\n",
    "plt.title('Training and Validation Accuracy')\n",
    "plt.legend()\n",
    "\n",
    "plt.figure()\n",
    "\n",
    "plt.plot(epochs, loss, 'bo', label='Training loss')\n",
    "plt.plot(epochs, val_loss, 'b', label='Validation loss')\n",
    "plt.title('Training and Validation Loss')\n",
    "plt.legend()\n",
    "\n",
    "plt.show()"
   ]
  },
  {
   "cell_type": "code",
   "execution_count": 46,
   "metadata": {},
   "outputs": [
    {
     "data": {
      "text/plain": [
       "0.7453086674213409"
      ]
     },
     "execution_count": 46,
     "metadata": {},
     "output_type": "execute_result"
    }
   ],
   "source": [
    "acc_median = np.median(acc)\n",
    "acc_median"
   ]
  },
  {
   "cell_type": "code",
   "execution_count": 47,
   "metadata": {},
   "outputs": [
    {
     "data": {
      "text/plain": [
       "0.08978396510040682"
      ]
     },
     "execution_count": 47,
     "metadata": {},
     "output_type": "execute_result"
    }
   ],
   "source": [
    "loss_std = np.std(loss)\n",
    "loss_std"
   ]
  },
  {
   "cell_type": "code",
   "execution_count": 49,
   "metadata": {},
   "outputs": [
    {
     "name": "stdout",
     "output_type": "stream",
     "text": [
      "Found 3677 images belonging to 2 classes.\n"
     ]
    }
   ],
   "source": [
    "train_datagen_2 = ImageDataGenerator(\n",
    "    rescale=1./255,\n",
    "    rotation_range=50,\n",
    "    width_shift_range=0.1,\n",
    "    height_shift_range=0.1,\n",
    "    zoom_range=0.1,\n",
    "    horizontal_flip=True,\n",
    "    fill_mode='nearest'\n",
    ")\n",
    "\n",
    "train_gen_2 = train_datagen_2.flow_from_directory(\n",
    "    train_dir,\n",
    "    target_size=(150, 150),\n",
    "    batch_size=20,\n",
    "    class_mode='binary',\n",
    "    shuffle=True\n",
    ")"
   ]
  },
  {
   "cell_type": "code",
   "execution_count": 50,
   "metadata": {},
   "outputs": [
    {
     "name": "stdout",
     "output_type": "stream",
     "text": [
      "Epoch 1/10\n",
      "184/184 [==============================] - 14s 75ms/step - loss: 0.5052 - accuracy: 0.7675 - val_loss: 0.4863 - val_accuracy: 0.7756\n",
      "Epoch 2/10\n",
      "184/184 [==============================] - 14s 74ms/step - loss: 0.4809 - accuracy: 0.7881 - val_loss: 0.4838 - val_accuracy: 0.7625\n",
      "Epoch 3/10\n",
      "184/184 [==============================] - 14s 74ms/step - loss: 0.4776 - accuracy: 0.7740 - val_loss: 0.4642 - val_accuracy: 0.7821\n",
      "Epoch 4/10\n",
      "184/184 [==============================] - 14s 74ms/step - loss: 0.4836 - accuracy: 0.7732 - val_loss: 0.5473 - val_accuracy: 0.7462\n",
      "Epoch 5/10\n",
      "184/184 [==============================] - 14s 73ms/step - loss: 0.4742 - accuracy: 0.7879 - val_loss: 0.4873 - val_accuracy: 0.7712\n",
      "Epoch 6/10\n",
      "184/184 [==============================] - 14s 74ms/step - loss: 0.4783 - accuracy: 0.7702 - val_loss: 0.4708 - val_accuracy: 0.7767\n",
      "Epoch 7/10\n",
      "184/184 [==============================] - 14s 74ms/step - loss: 0.4672 - accuracy: 0.7873 - val_loss: 0.4552 - val_accuracy: 0.7854\n",
      "Epoch 8/10\n",
      "184/184 [==============================] - 13s 73ms/step - loss: 0.4696 - accuracy: 0.7857 - val_loss: 0.4637 - val_accuracy: 0.7723\n",
      "Epoch 9/10\n",
      "184/184 [==============================] - 13s 73ms/step - loss: 0.4635 - accuracy: 0.7860 - val_loss: 0.4726 - val_accuracy: 0.7887\n",
      "Epoch 10/10\n",
      "184/184 [==============================] - 14s 73ms/step - loss: 0.4541 - accuracy: 0.7922 - val_loss: 0.4581 - val_accuracy: 0.7930\n"
     ]
    }
   ],
   "source": [
    "history_2 = model.fit(train_gen_2,\n",
    "                      epochs=10,\n",
    "                      validation_data=validation_generator)"
   ]
  },
  {
   "cell_type": "code",
   "execution_count": 51,
   "metadata": {},
   "outputs": [
    {
     "data": {
      "text/plain": [
       "0.47893195450305937"
      ]
     },
     "execution_count": 51,
     "metadata": {},
     "output_type": "execute_result"
    }
   ],
   "source": [
    "np.mean(history_2.history['val_loss'])"
   ]
  },
  {
   "cell_type": "code",
   "execution_count": 52,
   "metadata": {},
   "outputs": [
    {
     "data": {
      "text/plain": [
       "0.7832244038581848"
      ]
     },
     "execution_count": 52,
     "metadata": {},
     "output_type": "execute_result"
    }
   ],
   "source": [
    "np.mean(history_2.history['val_accuracy'][5:])"
   ]
  },
  {
   "cell_type": "code",
   "execution_count": null,
   "metadata": {},
   "outputs": [],
   "source": []
  }
 ],
 "metadata": {
  "kernelspec": {
   "display_name": "midterm-FfkB8uAF",
   "language": "python",
   "name": "python3"
  },
  "language_info": {
   "codemirror_mode": {
    "name": "ipython",
    "version": 3
   },
   "file_extension": ".py",
   "mimetype": "text/x-python",
   "name": "python",
   "nbconvert_exporter": "python",
   "pygments_lexer": "ipython3",
   "version": "3.11.4"
  }
 },
 "nbformat": 4,
 "nbformat_minor": 2
}
